{
 "cells": [
  {
   "cell_type": "markdown",
   "metadata": {},
   "source": [
    "Preprocessing"
   ]
  },
  {
   "cell_type": "code",
   "execution_count": 1,
   "metadata": {},
   "outputs": [],
   "source": [
    "from ucimlrepo import fetch_ucirepo \n",
    "\n",
    "# fetch dataset \n",
    "adult = fetch_ucirepo(id=2) "
   ]
  },
  {
   "cell_type": "code",
   "execution_count": 2,
   "metadata": {},
   "outputs": [],
   "source": [
    "import pandas as pd  \n",
    "from sklearn.preprocessing import StandardScaler\n",
    "from sklearn.model_selection import train_test_split\n",
    "import numpy as np\n",
    "from sklearn.tree import DecisionTreeClassifier"
   ]
  },
  {
   "cell_type": "code",
   "execution_count": 3,
   "metadata": {},
   "outputs": [],
   "source": [
    "# data (as pandas dataframes) \n",
    "Data = adult.data\n",
    "x_raw = adult.data.features \n",
    "y_raw = adult.data.targets \n"
   ]
  },
  {
   "cell_type": "code",
   "execution_count": 4,
   "metadata": {},
   "outputs": [],
   "source": [
    "x_raw = x_raw.replace(\"?\", np.nan)\n",
    "x_raw[pd.isnull(x_raw).any(axis=1)].shape\n",
    "rows_with_missing_values = x_raw[pd.isnull(x_raw).any(axis=1)]\n",
    "\n",
    "x_raw.dropna(inplace=True)\n",
    "x_raw.drop('education-num', axis=1, inplace=True)\n",
    "y_raw = y_raw.drop(rows_with_missing_values.index)\n"
   ]
  },
  {
   "cell_type": "code",
   "execution_count": 5,
   "metadata": {},
   "outputs": [],
   "source": [
    "x = pd.DataFrame(x_raw)\n",
    "y = pd.DataFrame(y_raw)\n",
    "x_names = x.columns.tolist()\n",
    "x_names = np.array(x_names)\n",
    "y_names = y.columns.tolist()"
   ]
  },
  {
   "cell_type": "code",
   "execution_count": 6,
   "metadata": {},
   "outputs": [
    {
     "name": "stdout",
     "output_type": "stream",
     "text": [
      "Series([], Name: workclass, dtype: object)\n",
      "1 Index(['State-gov', 'Self-emp-not-inc', 'Private', 'Federal-gov', 'Local-gov',\n",
      "       'Self-emp-inc', 'Without-pay'],\n",
      "      dtype='object')\n",
      "2 Index(['Bachelors', 'HS-grad', '11th', 'Masters', '9th', 'Some-college',\n",
      "       'Assoc-acdm', '7th-8th', 'Doctorate', 'Assoc-voc', 'Prof-school',\n",
      "       '5th-6th', '10th', 'Preschool', '12th', '1st-4th'],\n",
      "      dtype='object')\n",
      "3 Index(['Never-married', 'Married-civ-spouse', 'Divorced',\n",
      "       'Married-spouse-absent', 'Separated', 'Married-AF-spouse', 'Widowed'],\n",
      "      dtype='object')\n",
      "4 Index(['Adm-clerical', 'Exec-managerial', 'Handlers-cleaners',\n",
      "       'Prof-specialty', 'Other-service', 'Sales', 'Transport-moving',\n",
      "       'Farming-fishing', 'Machine-op-inspct', 'Tech-support', 'Craft-repair',\n",
      "       'Protective-serv', 'Armed-Forces', 'Priv-house-serv'],\n",
      "      dtype='object')\n",
      "5 Index(['Not-in-family', 'Husband', 'Wife', 'Own-child', 'Unmarried',\n",
      "       'Other-relative'],\n",
      "      dtype='object')\n",
      "6 Index(['White', 'Black', 'Asian-Pac-Islander', 'Amer-Indian-Eskimo', 'Other'], dtype='object')\n",
      "7 Index(['Male', 'Female'], dtype='object')\n",
      "9 Index(['United-States', 'Cuba', 'Jamaica', 'India', 'Mexico', 'Puerto-Rico',\n",
      "       'Honduras', 'England', 'Canada', 'Germany', 'Iran', 'Philippines',\n",
      "       'Poland', 'Columbia', 'Cambodia', 'Thailand', 'Ecuador', 'Laos',\n",
      "       'Taiwan', 'Haiti', 'Portugal', 'Dominican-Republic', 'El-Salvador',\n",
      "       'France', 'Guatemala', 'Italy', 'China', 'South', 'Japan', 'Yugoslavia',\n",
      "       'Peru', 'Outlying-US(Guam-USVI-etc)', 'Scotland', 'Trinadad&Tobago',\n",
      "       'Greece', 'Nicaragua', 'Vietnam', 'Hong', 'Ireland', 'Hungary',\n",
      "       'Holand-Netherlands'],\n",
      "      dtype='object')\n"
     ]
    }
   ],
   "source": [
    "#print(x[10:60])\n",
    "print(x['workclass'][x['workclass'] == '?'])\n",
    "\n",
    "x['workclass'], value = pd.factorize(x_raw['workclass'])\n",
    "print(\"1\",value)\n",
    "x['education'], value = pd.factorize(x_raw['education'])\n",
    "print(\"2\",value)\n",
    "x['marital-status'], value = pd.factorize(x_raw['marital-status'])\n",
    "print(\"3\",value)\n",
    "x['occupation'], value = pd.factorize(x_raw['occupation'])\n",
    "print(\"4\",value)\n",
    "x['relationship'], value = pd.factorize(x_raw['relationship'])\n",
    "print(\"5\",value)\n",
    "x['race'], value = pd.factorize(x_raw['race'])\n",
    "print(\"6\",value)\n",
    "x['sex'], value = pd.factorize(x_raw['sex'])\n",
    "print(\"7\",value)\n",
    "x['native-country'], value = pd.factorize(x_raw['native-country'])\n",
    "print(\"9\",value)\n",
    "\n",
    "y['income'][y['income']=='>50K.'] = '>50K'\n",
    "y['income'][y['income']=='<=50K.'] = '<=50K'\n",
    "y['income'], value = pd.factorize(y['income'])\n",
    "\n",
    "#print(x)"
   ]
  },
  {
   "cell_type": "code",
   "execution_count": 7,
   "metadata": {},
   "outputs": [],
   "source": [
    "# %matplotlib widget\n",
    "# import matplotlib.pyplot as plt\n",
    "\n",
    "# # 筛选出标签为1的样本的年龄数据\n",
    "# age_L50K = x_raw[y_raw['income'] == '>50K']['age']\n",
    "# age_M50K = x_raw[y_raw['income'] == '<=50K']['age']\n",
    "\n",
    "# age_L50K = (age_L50K/10).round().astype(int) *10\n",
    "# age_M50K = (age_M50K/10).round().astype(int) *10\n",
    "\n",
    "# fnlwgt_L50K = x_raw[y_raw['income'] == '>50K']['fnlwgt']\n",
    "# fnlwgt_M50K = x_raw[y_raw['income'] == '<=50K']['fnlwgt']\n",
    "\n",
    "# fnlwgt_L50K = (fnlwgt_L50K/100000).round().astype(int) \n",
    "# fnlwgt_M50K = (fnlwgt_M50K/100000).round().astype(int) \n",
    "\n",
    "# gain_L50K = x_raw[y_raw['income'] == '>50K']['capital-gain']\n",
    "# gain_M50K = x_raw[y_raw['income'] == '<=50K']['capital-gain']\n",
    "\n",
    "# gain_L50K = (gain_L50K /1000).round().astype(int) \n",
    "# gain_M50K = (gain_M50K/1000).round().astype(int) \n",
    "\n",
    "# loss_L50K = x_raw[y_raw['income'] == '>50K']['capital-loss']\n",
    "# loss_M50K = x_raw[y_raw['income'] == '<=50K']['capital-loss']\n",
    "\n",
    "# loss_L50K = (loss_L50K /1000).round().astype(int) \n",
    "# loss_M50K = (loss_M50K/1000).round().astype(int) \n",
    "\n",
    "# hours_L50K = x_raw[y_raw['income'] == '>50K']['hours-per-week']\n",
    "# hours_M50K = x_raw[y_raw['income'] == '<=50K']['hours-per-week']\n",
    "\n",
    "# hours_L50K = (hours_L50K /10).round().astype(int) *10\n",
    "# hours_M50K = (hours_M50K/10).round().astype(int) *10\n",
    "\n",
    "# # 绘制年龄分布图\n",
    "# fig = plt.figure(figsize=(15,5))\n",
    "# plt.subplot(231)\n",
    "# age_L50K.value_counts().sort_index(ascending=True).plot(kind='bar',color = 'g',align = 'edge',width = 0.6)\n",
    "# age_M50K.value_counts().sort_index(ascending=True).plot(kind='bar',color = 'r', width = 0.4)\n",
    "# plt.xlabel('Age')\n",
    "# plt.ylabel('Count')\n",
    "# plt.subplot(232)\n",
    "# fnlwgt_L50K.value_counts().sort_index(ascending=True).plot(kind='bar',color = 'g',align = 'edge',width = 0.6)\n",
    "# fnlwgt_M50K.value_counts().sort_index(ascending=True).plot(kind='bar',color = 'r', width = 0.4)\n",
    "# plt.subplot(233)\n",
    "# gain_L50K.value_counts().sort_index(ascending=True).plot(kind='bar',color = 'g',align = 'edge',width = 0.6)\n",
    "# gain_M50K.value_counts().sort_index(ascending=True).plot(kind='bar',color = 'r', width = 0.4)\n",
    "# plt.subplot(234)\n",
    "# loss_L50K.value_counts().sort_index(ascending=True).plot(kind='bar',color = 'g',align = 'edge',width = 0.6)\n",
    "# loss_M50K.value_counts().sort_index(ascending=True).plot(kind='bar',color = 'r', width = 0.4)\n",
    "# plt.subplot(235)\n",
    "# hours_L50K.value_counts().sort_index(ascending=True).plot(kind='bar',color = 'g',align = 'edge',width = 0.6)\n",
    "# hours_M50K.value_counts().sort_index(ascending=True).plot(kind='bar',color = 'r', width = 0.4)\n",
    "# plt.tight_layout()\n",
    "# plt.show()\n"
   ]
  },
  {
   "cell_type": "code",
   "execution_count": 8,
   "metadata": {},
   "outputs": [],
   "source": [
    "from sklearn.preprocessing import MinMaxScaler\n",
    "scaler = MinMaxScaler()\n",
    "x['age'] = scaler.fit_transform(x[['age']])\n",
    "x['fnlwgt'] = scaler.fit_transform(x[['fnlwgt']])\n",
    "x['capital-gain'] = scaler.fit_transform(x[['capital-gain']])\n",
    "x['capital-loss'] = scaler.fit_transform(x[['capital-loss']])\n",
    "x['hours-per-week'] = scaler.fit_transform(x[['hours-per-week']])\n",
    "# print(type(x['age']))\n",
    "# print(type(x['workclass']))"
   ]
  },
  {
   "cell_type": "code",
   "execution_count": 9,
   "metadata": {},
   "outputs": [],
   "source": [
    "x = x.to_numpy()\n",
    "y = y.to_numpy()"
   ]
  },
  {
   "cell_type": "markdown",
   "metadata": {},
   "source": [
    "GINI(CART)"
   ]
  },
  {
   "cell_type": "code",
   "execution_count": 10,
   "metadata": {},
   "outputs": [],
   "source": [
    "# from sklearn.tree import DecisionTreeClassifier\n",
    "# from sklearn.model_selection import GridSearchCV\n",
    "\n",
    "# # 創建一個DecisionTreeClassifier\n",
    "# clf_test = DecisionTreeClassifier()\n",
    "# x_train, x_test, y_train, y_test = train_test_split(x ,y, test_size = 0.3, random_state=0) #將資料切割成測試集訓練集，random為種子碼\n",
    "# # 設置深度範圍\n",
    "# param_grid = {'max_depth': range(1, 21)}\n",
    "# # 使用GridSearchCV來進行網格搜索和交叉驗證\n",
    "# grid_search = GridSearchCV(clf_test, param_grid, cv=5)\n",
    "# grid_search.fit(x_train, y_train)\n",
    "\n",
    "# # 找到最佳深度\n",
    "# best_depth = grid_search.best_params_['max_depth']\n",
    "# print(\"最佳深度是:\", best_depth)\n"
   ]
  },
  {
   "cell_type": "code",
   "execution_count": 11,
   "metadata": {},
   "outputs": [],
   "source": [
    "def decision_tree(clf, x_train, x_test, y_train, y_test, result, x_names):\n",
    "    clf.fit(x_train, y_train)\n",
    "    feature_importances = clf.feature_importances_\n",
    "    select_feature = np.where(feature_importances > 0)\n",
    "    select_feature = np.array(select_feature)[0]\n",
    "    # print(select_feature)\n",
    "    # print(feature_importances)\n",
    "    # #使用布尔索引来筛选重要性得分小于0.1的特征\n",
    "    x_train_gini = x_train[:, feature_importances > 0]\n",
    "    x_test_gini = x_test[:, feature_importances > 0]\n",
    "    # print(x_test_gini)\n",
    "    \n",
    "    x_names = x_names[select_feature]\n",
    "    # print(x_names)\n",
    "    \n",
    "    clf.fit(x_train_gini, y_train)\n",
    "    y_pred_gini = clf.predict(x_test_gini)\n",
    "\n",
    "    # clf.fit(x_train, y_train)\n",
    "    # y_pred_gini = clf.predict(x_test)\n",
    "\n",
    "    accuracy_gini = accuracy_score(y_test, y_pred_gini)\n",
    "    result.append(1 - accuracy_gini)\n",
    "    return x_names"
   ]
  },
  {
   "cell_type": "code",
   "execution_count": 12,
   "metadata": {},
   "outputs": [
    {
     "name": "stdout",
     "output_type": "stream",
     "text": [
      "0.20521244669088612\n"
     ]
    }
   ],
   "source": [
    "from sklearn.tree import DecisionTreeClassifier\n",
    "from sklearn.metrics import accuracy_score\n",
    "\n",
    "result_test = []\n",
    "for i in range(2,50):\n",
    "    clf = DecisionTreeClassifier(criterion='gini',max_depth=i)\n",
    "    x_train, x_test, y_train, y_test = train_test_split(x ,y, test_size = 0.3, random_state=0) #將資料切割成測試集訓練集，random為種子碼\n",
    "    x_names_test = x_names\n",
    "\n",
    "    #print(x_train[0:5])\n",
    "    x_names_test = decision_tree(clf, x_train, x_train, y_train, y_train, result_test, x_names_test)\n",
    "    #print(result_test)\n",
    "print(max(result_test))"
   ]
  },
  {
   "cell_type": "code",
   "execution_count": 13,
   "metadata": {},
   "outputs": [
    {
     "name": "stdout",
     "output_type": "stream",
     "text": [
      "0.20012636234402148\n"
     ]
    }
   ],
   "source": [
    "result_valid = []\n",
    "for i in range(2,50):\n",
    "    clf = DecisionTreeClassifier(criterion='gini',max_depth=i)\n",
    "\n",
    "    x_train_, x_vaild, y_train_, y_valid = train_test_split(x_train ,y_train, test_size = 0.2, random_state=0) #將資料切割成測試集訓練集，random為種子碼\n",
    "    x_names_valid = x_names\n",
    "    \n",
    "    x_names_valid = decision_tree(clf, x_train_, x_vaild, y_train_, y_valid, result_valid,x_names)\n",
    "        \n",
    "print(max(result_valid))\n",
    "    #print(result_valid)"
   ]
  },
  {
   "cell_type": "code",
   "execution_count": 14,
   "metadata": {},
   "outputs": [
    {
     "data": {
      "image/png": "[encoded data removed]",
      "text/plain": [
       "<Figure size 1500x500 with 1 Axes>"
      ]
     },
     "metadata": {},
     "output_type": "display_data"
    }
   ],
   "source": [
    "import matplotlib.pyplot as plt\n",
    "fig = plt.figure(figsize=(15,5))\n",
    "plt.xlabel('Max_leaf_nodes')\n",
    "plt.ylabel(\"Error_rate\")\n",
    "plt.plot(range(2,50), result_test, label='train')\n",
    "plt.plot(range(2,50), result_valid, label='valid')\n",
    "plt.legend()\n",
    "plt.show()"
   ]
  },
  {
   "cell_type": "code",
   "execution_count": 15,
   "metadata": {},
   "outputs": [],
   "source": [
    "import matplotlib.pyplot as plt\n",
    "from sklearn import tree\n",
    "annotations = tree.plot_tree(clf, feature_names = x_names_test, class_names = ['<=50K', '>50K'], filled = True)\n",
    "for i in range(len(annotations)):\n",
    "    print(annotations[i])"
   ]
  }
 ],
 "metadata": {
  "kernelspec": {
   "display_name": "Python 3",
   "language": "python",
   "name": "python3"
  },
  "language_info": {
   "codemirror_mode": {
    "name": "ipython",
    "version": 3
   },
   "file_extension": ".py",
   "mimetype": "text/x-python",
   "name": "python",
   "nbconvert_exporter": "python",
   "pygments_lexer": "ipython3",
   "version": "3.8.18"
  },
  "orig_nbformat": 4
 },
 "nbformat": 4,
 "nbformat_minor": 2
}
